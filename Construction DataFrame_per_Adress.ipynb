{
 "cells": [
  {
   "cell_type": "code",
   "execution_count": 60,
   "id": "a7ed5aa4",
   "metadata": {},
   "outputs": [],
   "source": [
    "import numpy as np\n",
    "import pandas as pd\n",
    "import matplotlib.pyplot as plt\n",
    "import re\n",
    "import os\n",
    "import requests\n",
    "from bs4 import BeautifulSoup as bs\n",
    "from random import randint\n",
    "from random import *\n",
    "from time import sleep \n",
    "from sklearn.metrics import mean_squared_error\n",
    "import numpy as np\n",
    "import pandas as pd\n",
    "from sklearn.linear_model import LinearRegression"
   ]
  },
  {
   "cell_type": "code",
   "execution_count": 9,
   "id": "9c8800e2",
   "metadata": {
    "scrolled": true
   },
   "outputs": [
    {
     "data": {
      "text/html": [
       "<div>\n",
       "<style scoped>\n",
       "    .dataframe tbody tr th:only-of-type {\n",
       "        vertical-align: middle;\n",
       "    }\n",
       "\n",
       "    .dataframe tbody tr th {\n",
       "        vertical-align: top;\n",
       "    }\n",
       "\n",
       "    .dataframe thead th {\n",
       "        text-align: right;\n",
       "    }\n",
       "</style>\n",
       "<table border=\"1\" class=\"dataframe\">\n",
       "  <thead>\n",
       "    <tr style=\"text-align: right;\">\n",
       "      <th></th>\n",
       "      <th>Txn_Hash</th>\n",
       "      <th>Method</th>\n",
       "      <th>Block</th>\n",
       "      <th>Date</th>\n",
       "      <th>From</th>\n",
       "      <th>IN/OUT</th>\n",
       "      <th>Destination</th>\n",
       "      <th>Value</th>\n",
       "      <th>Crypto</th>\n",
       "      <th>TXN_Fee</th>\n",
       "    </tr>\n",
       "  </thead>\n",
       "  <tbody>\n",
       "    <tr>\n",
       "      <th>0</th>\n",
       "      <td>0x086a2a060cbfbf47f9dfbdbbd113b210c8820ab14250...</td>\n",
       "      <td>Withdraw ETH</td>\n",
       "      <td>15134004</td>\n",
       "      <td>23 mins ago</td>\n",
       "      <td>0x357dfdc34f93388059d2eb09996d80f233037cba</td>\n",
       "      <td>IN</td>\n",
       "      <td>Aave: WETH Gateway</td>\n",
       "      <td>0.000000</td>\n",
       "      <td>Ether</td>\n",
       "      <td>0.014109</td>\n",
       "    </tr>\n",
       "    <tr>\n",
       "      <th>1</th>\n",
       "      <td>0x0c4e0adf392af5e73a1bdb410c48174e9c8eafdbf9f5...</td>\n",
       "      <td>Withdraw ETH</td>\n",
       "      <td>15133919</td>\n",
       "      <td>43 mins ago</td>\n",
       "      <td>0x4bdfd3ce7bfb07b75a2a59a8f723910dd7147b9c</td>\n",
       "      <td>IN</td>\n",
       "      <td>Aave: WETH Gateway</td>\n",
       "      <td>0.000000</td>\n",
       "      <td>Ether</td>\n",
       "      <td>0.005413</td>\n",
       "    </tr>\n",
       "    <tr>\n",
       "      <th>2</th>\n",
       "      <td>0xbbacf41817a593363b6d1994c5ecf6e59aed46c16faa...</td>\n",
       "      <td>Withdraw ETH</td>\n",
       "      <td>15133792</td>\n",
       "      <td>1 hr 14 mins ago</td>\n",
       "      <td>0xcd64bb95ee1b3a95586836d636849b71b871732b</td>\n",
       "      <td>IN</td>\n",
       "      <td>Aave: WETH Gateway</td>\n",
       "      <td>0.000000</td>\n",
       "      <td>Ether</td>\n",
       "      <td>0.006093</td>\n",
       "    </tr>\n",
       "    <tr>\n",
       "      <th>3</th>\n",
       "      <td>0x5b2a24cf74ef6dbc0e11818517ed5c0948541c6c2d55...</td>\n",
       "      <td>Repay ETH</td>\n",
       "      <td>15133709</td>\n",
       "      <td>1 hr 31 mins ago</td>\n",
       "      <td>0xcd64bb95ee1b3a95586836d636849b71b871732b</td>\n",
       "      <td>IN</td>\n",
       "      <td>Aave: WETH Gateway</td>\n",
       "      <td>28.091154</td>\n",
       "      <td>Ether</td>\n",
       "      <td>0.004664</td>\n",
       "    </tr>\n",
       "    <tr>\n",
       "      <th>4</th>\n",
       "      <td>0x775c498801d9fa398cfdded853bedcd4bb6b84f42d5a...</td>\n",
       "      <td>Withdraw ETH</td>\n",
       "      <td>15133694</td>\n",
       "      <td>1 hr 33 mins ago</td>\n",
       "      <td>0xcd64bb95ee1b3a95586836d636849b71b871732b</td>\n",
       "      <td>IN</td>\n",
       "      <td>Aave: WETH Gateway</td>\n",
       "      <td>0.000000</td>\n",
       "      <td>Ether</td>\n",
       "      <td>0.004882</td>\n",
       "    </tr>\n",
       "    <tr>\n",
       "      <th>...</th>\n",
       "      <td>...</td>\n",
       "      <td>...</td>\n",
       "      <td>...</td>\n",
       "      <td>...</td>\n",
       "      <td>...</td>\n",
       "      <td>...</td>\n",
       "      <td>...</td>\n",
       "      <td>...</td>\n",
       "      <td>...</td>\n",
       "      <td>...</td>\n",
       "    </tr>\n",
       "    <tr>\n",
       "      <th>99595</th>\n",
       "      <td>0xf97cc92f9861b304fde5c63fe186926a05dedb56ffe5...</td>\n",
       "      <td>Repay ETH</td>\n",
       "      <td>12293852</td>\n",
       "      <td>446 days 9 hrs ago</td>\n",
       "      <td>0x2de640a18fe3480aa802aca91f70177ada103391</td>\n",
       "      <td>IN</td>\n",
       "      <td>Aave: WETH Gateway</td>\n",
       "      <td>500.000000</td>\n",
       "      <td>Ether</td>\n",
       "      <td>0.059676</td>\n",
       "    </tr>\n",
       "    <tr>\n",
       "      <th>99596</th>\n",
       "      <td>0x5c84d48105c8fa51173370231089cd8a2555393654c8...</td>\n",
       "      <td>Deposit ETH</td>\n",
       "      <td>12293840</td>\n",
       "      <td>446 days 9 hrs ago</td>\n",
       "      <td>0xd7c4b21657288253b17071b391f98d03c98a1553</td>\n",
       "      <td>IN</td>\n",
       "      <td>Aave: WETH Gateway</td>\n",
       "      <td>1.000000</td>\n",
       "      <td>Ether</td>\n",
       "      <td>0.051519</td>\n",
       "    </tr>\n",
       "    <tr>\n",
       "      <th>99597</th>\n",
       "      <td>0xaddd5ef3dea20fbdcb781130b07d9d00333502681e74...</td>\n",
       "      <td>Withdraw ETH</td>\n",
       "      <td>12293827</td>\n",
       "      <td>446 days 9 hrs ago</td>\n",
       "      <td>0xdc5ff02e8cbe7405c465adba6f2d036d6be28001</td>\n",
       "      <td>IN</td>\n",
       "      <td>Aave: WETH Gateway</td>\n",
       "      <td>0.000000</td>\n",
       "      <td>Ether</td>\n",
       "      <td>0.012744</td>\n",
       "    </tr>\n",
       "    <tr>\n",
       "      <th>99598</th>\n",
       "      <td>0xfbb2c16b87153486826e1bdbc779a8a8aeef04462e95...</td>\n",
       "      <td>Deposit ETH</td>\n",
       "      <td>12293818</td>\n",
       "      <td>446 days 9 hrs ago</td>\n",
       "      <td>playingmoney.eth</td>\n",
       "      <td>IN</td>\n",
       "      <td>Aave: WETH Gateway</td>\n",
       "      <td>10.000000</td>\n",
       "      <td>Ether</td>\n",
       "      <td>0.049405</td>\n",
       "    </tr>\n",
       "    <tr>\n",
       "      <th>99599</th>\n",
       "      <td>0x8704853a78b7a5a9c48b24f77b023a5a411208c810bc...</td>\n",
       "      <td>Deposit ETH</td>\n",
       "      <td>12293811</td>\n",
       "      <td>446 days 9 hrs ago</td>\n",
       "      <td>0x182075e14607bdc02e59f621ed3202697c99c064</td>\n",
       "      <td>IN</td>\n",
       "      <td>Aave: WETH Gateway</td>\n",
       "      <td>60.000000</td>\n",
       "      <td>Ether</td>\n",
       "      <td>0.044825</td>\n",
       "    </tr>\n",
       "  </tbody>\n",
       "</table>\n",
       "<p>99600 rows × 10 columns</p>\n",
       "</div>"
      ],
      "text/plain": [
       "                                                Txn_Hash        Method  \\\n",
       "0      0x086a2a060cbfbf47f9dfbdbbd113b210c8820ab14250...  Withdraw ETH   \n",
       "1      0x0c4e0adf392af5e73a1bdb410c48174e9c8eafdbf9f5...  Withdraw ETH   \n",
       "2      0xbbacf41817a593363b6d1994c5ecf6e59aed46c16faa...  Withdraw ETH   \n",
       "3      0x5b2a24cf74ef6dbc0e11818517ed5c0948541c6c2d55...     Repay ETH   \n",
       "4      0x775c498801d9fa398cfdded853bedcd4bb6b84f42d5a...  Withdraw ETH   \n",
       "...                                                  ...           ...   \n",
       "99595  0xf97cc92f9861b304fde5c63fe186926a05dedb56ffe5...     Repay ETH   \n",
       "99596  0x5c84d48105c8fa51173370231089cd8a2555393654c8...   Deposit ETH   \n",
       "99597  0xaddd5ef3dea20fbdcb781130b07d9d00333502681e74...  Withdraw ETH   \n",
       "99598  0xfbb2c16b87153486826e1bdbc779a8a8aeef04462e95...   Deposit ETH   \n",
       "99599  0x8704853a78b7a5a9c48b24f77b023a5a411208c810bc...   Deposit ETH   \n",
       "\n",
       "          Block                Date  \\\n",
       "0      15134004         23 mins ago   \n",
       "1      15133919         43 mins ago   \n",
       "2      15133792    1 hr 14 mins ago   \n",
       "3      15133709    1 hr 31 mins ago   \n",
       "4      15133694    1 hr 33 mins ago   \n",
       "...         ...                 ...   \n",
       "99595  12293852  446 days 9 hrs ago   \n",
       "99596  12293840  446 days 9 hrs ago   \n",
       "99597  12293827  446 days 9 hrs ago   \n",
       "99598  12293818  446 days 9 hrs ago   \n",
       "99599  12293811  446 days 9 hrs ago   \n",
       "\n",
       "                                             From IN/OUT         Destination  \\\n",
       "0      0x357dfdc34f93388059d2eb09996d80f233037cba     IN  Aave: WETH Gateway   \n",
       "1      0x4bdfd3ce7bfb07b75a2a59a8f723910dd7147b9c     IN  Aave: WETH Gateway   \n",
       "2      0xcd64bb95ee1b3a95586836d636849b71b871732b     IN  Aave: WETH Gateway   \n",
       "3      0xcd64bb95ee1b3a95586836d636849b71b871732b     IN  Aave: WETH Gateway   \n",
       "4      0xcd64bb95ee1b3a95586836d636849b71b871732b     IN  Aave: WETH Gateway   \n",
       "...                                           ...    ...                 ...   \n",
       "99595  0x2de640a18fe3480aa802aca91f70177ada103391     IN  Aave: WETH Gateway   \n",
       "99596  0xd7c4b21657288253b17071b391f98d03c98a1553     IN  Aave: WETH Gateway   \n",
       "99597  0xdc5ff02e8cbe7405c465adba6f2d036d6be28001     IN  Aave: WETH Gateway   \n",
       "99598                            playingmoney.eth     IN  Aave: WETH Gateway   \n",
       "99599  0x182075e14607bdc02e59f621ed3202697c99c064     IN  Aave: WETH Gateway   \n",
       "\n",
       "            Value Crypto   TXN_Fee  \n",
       "0        0.000000  Ether  0.014109  \n",
       "1        0.000000  Ether  0.005413  \n",
       "2        0.000000  Ether  0.006093  \n",
       "3       28.091154  Ether  0.004664  \n",
       "4        0.000000  Ether  0.004882  \n",
       "...           ...    ...       ...  \n",
       "99595  500.000000  Ether  0.059676  \n",
       "99596    1.000000  Ether  0.051519  \n",
       "99597    0.000000  Ether  0.012744  \n",
       "99598   10.000000  Ether  0.049405  \n",
       "99599   60.000000  Ether  0.044825  \n",
       "\n",
       "[99600 rows x 10 columns]"
      ]
     },
     "execution_count": 9,
     "metadata": {},
     "output_type": "execute_result"
    }
   ],
   "source": [
    "df = pd.read_csv(\"Ordered_Data_Etherscan_scrapping.csv\")\n",
    "del df['Unnamed: 0']\n",
    "df\n"
   ]
  },
  {
   "cell_type": "code",
   "execution_count": 10,
   "id": "e0a31837",
   "metadata": {
    "scrolled": true
   },
   "outputs": [
    {
     "data": {
      "text/plain": [
       "Txn_Hash       0xfffe87cae5f9d389f4bf73a1f1f2cdf8295c9776e2e0...\n",
       "Method                                              Withdraw ETH\n",
       "Block                                                   15134004\n",
       "Date                                           99 days 9 hrs ago\n",
       "From                                               zztkblock.eth\n",
       "IN/OUT                                                        IN\n",
       "Destination                                   Aave: WETH Gateway\n",
       "Value                                                   400000.0\n",
       "Crypto                                                       wei\n",
       "TXN_Fee                                                  50.0697\n",
       "dtype: object"
      ]
     },
     "execution_count": 10,
     "metadata": {},
     "output_type": "execute_result"
    }
   ],
   "source": [
    "df.max()"
   ]
  },
  {
   "cell_type": "code",
   "execution_count": 11,
   "id": "d3f64e3d",
   "metadata": {
    "scrolled": true
   },
   "outputs": [
    {
     "data": {
      "text/html": [
       "<div>\n",
       "<style scoped>\n",
       "    .dataframe tbody tr th:only-of-type {\n",
       "        vertical-align: middle;\n",
       "    }\n",
       "\n",
       "    .dataframe tbody tr th {\n",
       "        vertical-align: top;\n",
       "    }\n",
       "\n",
       "    .dataframe thead th {\n",
       "        text-align: right;\n",
       "    }\n",
       "</style>\n",
       "<table border=\"1\" class=\"dataframe\">\n",
       "  <thead>\n",
       "    <tr style=\"text-align: right;\">\n",
       "      <th></th>\n",
       "      <th>Txn_Hash</th>\n",
       "      <th>Method</th>\n",
       "      <th>Block</th>\n",
       "      <th>Date</th>\n",
       "      <th>From</th>\n",
       "      <th>IN/OUT</th>\n",
       "      <th>Destination</th>\n",
       "      <th>Value</th>\n",
       "      <th>Crypto</th>\n",
       "      <th>TXN_Fee</th>\n",
       "    </tr>\n",
       "  </thead>\n",
       "  <tbody>\n",
       "    <tr>\n",
       "      <th>1796</th>\n",
       "      <td>0x9fc2a79ad37e9162184bffe477d805ed9f027802fe21...</td>\n",
       "      <td>Withdraw ETH</td>\n",
       "      <td>15054434</td>\n",
       "      <td>12 days 7 hrs ago</td>\n",
       "      <td>Fund: 0x712...996</td>\n",
       "      <td>IN</td>\n",
       "      <td>Aave: WETH Gateway</td>\n",
       "      <td>0.0</td>\n",
       "      <td>Ether</td>\n",
       "      <td>50.0697</td>\n",
       "    </tr>\n",
       "  </tbody>\n",
       "</table>\n",
       "</div>"
      ],
      "text/plain": [
       "                                               Txn_Hash        Method  \\\n",
       "1796  0x9fc2a79ad37e9162184bffe477d805ed9f027802fe21...  Withdraw ETH   \n",
       "\n",
       "         Block               Date               From IN/OUT  \\\n",
       "1796  15054434  12 days 7 hrs ago  Fund: 0x712...996     IN   \n",
       "\n",
       "             Destination  Value Crypto  TXN_Fee  \n",
       "1796  Aave: WETH Gateway    0.0  Ether  50.0697  "
      ]
     },
     "execution_count": 11,
     "metadata": {},
     "output_type": "execute_result"
    }
   ],
   "source": [
    "df[df.TXN_Fee == 50.0697]"
   ]
  },
  {
   "cell_type": "code",
   "execution_count": 38,
   "id": "683859d2",
   "metadata": {},
   "outputs": [],
   "source": [
    "df = df.drop(1796) "
   ]
  },
  {
   "cell_type": "markdown",
   "id": "b6b69962",
   "metadata": {},
   "source": [
    "J'enlève la ligne ou le Fee= 50 car il est trop grand par rapport aux autres et ca rend les graphiques illisibles."
   ]
  },
  {
   "cell_type": "code",
   "execution_count": 42,
   "id": "98dae981",
   "metadata": {},
   "outputs": [
    {
     "data": {
      "text/plain": [
       "Txn_Hash       0xfffe87cae5f9d389f4bf73a1f1f2cdf8295c9776e2e0...\n",
       "Method                                              Withdraw ETH\n",
       "Block                                                   15134004\n",
       "Date                                           99 days 9 hrs ago\n",
       "From                                               zztkblock.eth\n",
       "IN/OUT                                                        IN\n",
       "Destination                                   Aave: WETH Gateway\n",
       "Value                                                   400000.0\n",
       "Crypto                                                       wei\n",
       "TXN_Fee                                                 1.172423\n",
       "dtype: object"
      ]
     },
     "execution_count": 42,
     "metadata": {},
     "output_type": "execute_result"
    }
   ],
   "source": [
    "df.max()"
   ]
  },
  {
   "cell_type": "code",
   "execution_count": 43,
   "id": "5acc4b75",
   "metadata": {
    "scrolled": false
   },
   "outputs": [
    {
     "data": {
      "text/plain": [
       "400000.0"
      ]
     },
     "execution_count": 43,
     "metadata": {},
     "output_type": "execute_result"
    }
   ],
   "source": [
    "df.Value.max()"
   ]
  },
  {
   "cell_type": "code",
   "execution_count": 55,
   "id": "4cd18930",
   "metadata": {},
   "outputs": [
    {
     "data": {
      "text/plain": [
       "<AxesSubplot:xlabel='Value', ylabel='TXN_Fee'>"
      ]
     },
     "execution_count": 55,
     "metadata": {},
     "output_type": "execute_result"
    },
    {
     "data": {
      "image/png": "[encoded data removed]",
      "text/plain": [
       "<Figure size 432x288 with 1 Axes>"
      ]
     },
     "metadata": {
      "needs_background": "light"
     },
     "output_type": "display_data"
    }
   ],
   "source": [
    "df.plot.scatter(x='Value',y=\"TXN_Fee\")"
   ]
  },
  {
   "cell_type": "code",
   "execution_count": 44,
   "id": "310a5eb7",
   "metadata": {},
   "outputs": [
    {
     "data": {
      "image/png": "[encoded data removed]",
      "text/plain": [
       "<Figure size 720x360 with 1 Axes>"
      ]
     },
     "metadata": {
      "needs_background": "light"
     },
     "output_type": "display_data"
    }
   ],
   "source": [
    "df.head(50).plot.bar(y='TXN_Fee',x='Value', grid=True, figsize=(10, 5));"
   ]
  },
  {
   "cell_type": "code",
   "execution_count": 45,
   "id": "5b3553c9",
   "metadata": {
    "scrolled": true
   },
   "outputs": [
    {
     "data": {
      "image/png": "[encoded data removed]",
      "text/plain": [
       "<Figure size 432x288 with 1 Axes>"
      ]
     },
     "metadata": {
      "needs_background": "light"
     },
     "output_type": "display_data"
    }
   ],
   "source": [
    "df.head(50).plot.hist(y='TXN_Fee', bins = 15, title='Histogram of TXN_Fee', alpha=0.8, grid=True);"
   ]
  },
  {
   "cell_type": "code",
   "execution_count": 46,
   "id": "5ddbc174",
   "metadata": {
    "scrolled": true
   },
   "outputs": [
    {
     "data": {
      "text/plain": [
       "0     0.000000\n",
       "1     0.000000\n",
       "2     0.000000\n",
       "3    28.091154\n",
       "4     0.000000\n",
       "Name: Value, dtype: float64"
      ]
     },
     "execution_count": 46,
     "metadata": {},
     "output_type": "execute_result"
    }
   ],
   "source": [
    "df.head(5).Value\n"
   ]
  },
  {
   "cell_type": "markdown",
   "id": "8d831ba7",
   "metadata": {},
   "source": [
    "# Etude des données:"
   ]
  },
  {
   "cell_type": "markdown",
   "id": "f690d670",
   "metadata": {},
   "source": [
    "- Type d'opérations:"
   ]
  },
  {
   "cell_type": "code",
   "execution_count": 47,
   "id": "cc42653c",
   "metadata": {
    "scrolled": true
   },
   "outputs": [
    {
     "data": {
      "text/plain": [
       "Deposit ETH            55771\n",
       "Withdraw ETH           28325\n",
       "Borrow ETH              9470\n",
       "Repay ETH               5967\n",
       "Transfer                  64\n",
       "Approve                    1\n",
       "Transfer Ownersh...        1\n",
       "Name: Method, dtype: int64"
      ]
     },
     "execution_count": 47,
     "metadata": {},
     "output_type": "execute_result"
    }
   ],
   "source": [
    "df['Method'].value_counts()"
   ]
  },
  {
   "cell_type": "markdown",
   "id": "9d6727c7",
   "metadata": {},
   "source": [
    "- Nombre d'opération par Adresse:"
   ]
  },
  {
   "cell_type": "code",
   "execution_count": 48,
   "id": "308311de",
   "metadata": {
    "scrolled": true
   },
   "outputs": [
    {
     "data": {
      "text/plain": [
       "0x208b82b04449cd51803fae4b1561450ba13d9510    1225\n",
       "anonymoux.eth                                  719\n",
       "0x98578d10dc7fc755ea00682bd4e931b798219892     420\n",
       "0xd755578cb8b9e369803fe08b7d875287914a3d3c     415\n",
       "0xc803698a4be31f0b9035b6eba17623698f3e2f82     397\n",
       "                                              ... \n",
       "0x49e4699c2a0c849033e877da7204cf6fd63555dc      72\n",
       "0x3ee505ba316879d246a8fd2b3d7ee63b51b44fab      72\n",
       "0x94cf4a1568d59425183ca9c5613ef8620ca59286      72\n",
       "0xf368d43f148e1803ec793670183b0ca6a07d3898      70\n",
       "0x6bf9dd0b9f1575a98ed987dccbaa51bf8aef0aef      70\n",
       "Name: From, Length: 100, dtype: int64"
      ]
     },
     "execution_count": 48,
     "metadata": {},
     "output_type": "execute_result"
    }
   ],
   "source": [
    "df['From'].value_counts()[:100]"
   ]
  },
  {
   "cell_type": "markdown",
   "id": "ed015ef8",
   "metadata": {},
   "source": [
    "- Les Opération Withdraw ont toutes une Value de 0.0 ETH Sauf une qui est à 0.001 ETH"
   ]
  },
  {
   "cell_type": "code",
   "execution_count": 49,
   "id": "3a9d2eb5",
   "metadata": {},
   "outputs": [
    {
     "data": {
      "text/html": [
       "<div>\n",
       "<style scoped>\n",
       "    .dataframe tbody tr th:only-of-type {\n",
       "        vertical-align: middle;\n",
       "    }\n",
       "\n",
       "    .dataframe tbody tr th {\n",
       "        vertical-align: top;\n",
       "    }\n",
       "\n",
       "    .dataframe thead th {\n",
       "        text-align: right;\n",
       "    }\n",
       "</style>\n",
       "<table border=\"1\" class=\"dataframe\">\n",
       "  <thead>\n",
       "    <tr style=\"text-align: right;\">\n",
       "      <th></th>\n",
       "      <th>Txn_Hash</th>\n",
       "      <th>Method</th>\n",
       "      <th>Block</th>\n",
       "      <th>Date</th>\n",
       "      <th>From</th>\n",
       "      <th>IN/OUT</th>\n",
       "      <th>Destination</th>\n",
       "      <th>Value</th>\n",
       "      <th>Crypto</th>\n",
       "      <th>TXN_Fee</th>\n",
       "    </tr>\n",
       "  </thead>\n",
       "  <tbody>\n",
       "    <tr>\n",
       "      <th>0</th>\n",
       "      <td>0x086a2a060cbfbf47f9dfbdbbd113b210c8820ab14250...</td>\n",
       "      <td>Withdraw ETH</td>\n",
       "      <td>15134004</td>\n",
       "      <td>23 mins ago</td>\n",
       "      <td>0x357dfdc34f93388059d2eb09996d80f233037cba</td>\n",
       "      <td>IN</td>\n",
       "      <td>Aave: WETH Gateway</td>\n",
       "      <td>0.0</td>\n",
       "      <td>Ether</td>\n",
       "      <td>0.014109</td>\n",
       "    </tr>\n",
       "    <tr>\n",
       "      <th>1</th>\n",
       "      <td>0x0c4e0adf392af5e73a1bdb410c48174e9c8eafdbf9f5...</td>\n",
       "      <td>Withdraw ETH</td>\n",
       "      <td>15133919</td>\n",
       "      <td>43 mins ago</td>\n",
       "      <td>0x4bdfd3ce7bfb07b75a2a59a8f723910dd7147b9c</td>\n",
       "      <td>IN</td>\n",
       "      <td>Aave: WETH Gateway</td>\n",
       "      <td>0.0</td>\n",
       "      <td>Ether</td>\n",
       "      <td>0.005413</td>\n",
       "    </tr>\n",
       "    <tr>\n",
       "      <th>2</th>\n",
       "      <td>0xbbacf41817a593363b6d1994c5ecf6e59aed46c16faa...</td>\n",
       "      <td>Withdraw ETH</td>\n",
       "      <td>15133792</td>\n",
       "      <td>1 hr 14 mins ago</td>\n",
       "      <td>0xcd64bb95ee1b3a95586836d636849b71b871732b</td>\n",
       "      <td>IN</td>\n",
       "      <td>Aave: WETH Gateway</td>\n",
       "      <td>0.0</td>\n",
       "      <td>Ether</td>\n",
       "      <td>0.006093</td>\n",
       "    </tr>\n",
       "    <tr>\n",
       "      <th>4</th>\n",
       "      <td>0x775c498801d9fa398cfdded853bedcd4bb6b84f42d5a...</td>\n",
       "      <td>Withdraw ETH</td>\n",
       "      <td>15133694</td>\n",
       "      <td>1 hr 33 mins ago</td>\n",
       "      <td>0xcd64bb95ee1b3a95586836d636849b71b871732b</td>\n",
       "      <td>IN</td>\n",
       "      <td>Aave: WETH Gateway</td>\n",
       "      <td>0.0</td>\n",
       "      <td>Ether</td>\n",
       "      <td>0.004882</td>\n",
       "    </tr>\n",
       "    <tr>\n",
       "      <th>6</th>\n",
       "      <td>0xc9b9f126346f17d01ef0cffe699f1828622170746e7e...</td>\n",
       "      <td>Withdraw ETH</td>\n",
       "      <td>15133615</td>\n",
       "      <td>1 hr 52 mins ago</td>\n",
       "      <td>0xcd64bb95ee1b3a95586836d636849b71b871732b</td>\n",
       "      <td>IN</td>\n",
       "      <td>Aave: WETH Gateway</td>\n",
       "      <td>0.0</td>\n",
       "      <td>Ether</td>\n",
       "      <td>0.003906</td>\n",
       "    </tr>\n",
       "  </tbody>\n",
       "</table>\n",
       "</div>"
      ],
      "text/plain": [
       "                                            Txn_Hash        Method     Block  \\\n",
       "0  0x086a2a060cbfbf47f9dfbdbbd113b210c8820ab14250...  Withdraw ETH  15134004   \n",
       "1  0x0c4e0adf392af5e73a1bdb410c48174e9c8eafdbf9f5...  Withdraw ETH  15133919   \n",
       "2  0xbbacf41817a593363b6d1994c5ecf6e59aed46c16faa...  Withdraw ETH  15133792   \n",
       "4  0x775c498801d9fa398cfdded853bedcd4bb6b84f42d5a...  Withdraw ETH  15133694   \n",
       "6  0xc9b9f126346f17d01ef0cffe699f1828622170746e7e...  Withdraw ETH  15133615   \n",
       "\n",
       "               Date                                        From IN/OUT  \\\n",
       "0       23 mins ago  0x357dfdc34f93388059d2eb09996d80f233037cba     IN   \n",
       "1       43 mins ago  0x4bdfd3ce7bfb07b75a2a59a8f723910dd7147b9c     IN   \n",
       "2  1 hr 14 mins ago  0xcd64bb95ee1b3a95586836d636849b71b871732b     IN   \n",
       "4  1 hr 33 mins ago  0xcd64bb95ee1b3a95586836d636849b71b871732b     IN   \n",
       "6  1 hr 52 mins ago  0xcd64bb95ee1b3a95586836d636849b71b871732b     IN   \n",
       "\n",
       "          Destination  Value Crypto   TXN_Fee  \n",
       "0  Aave: WETH Gateway    0.0  Ether  0.014109  \n",
       "1  Aave: WETH Gateway    0.0  Ether  0.005413  \n",
       "2  Aave: WETH Gateway    0.0  Ether  0.006093  \n",
       "4  Aave: WETH Gateway    0.0  Ether  0.004882  \n",
       "6  Aave: WETH Gateway    0.0  Ether  0.003906  "
      ]
     },
     "execution_count": 49,
     "metadata": {},
     "output_type": "execute_result"
    }
   ],
   "source": [
    "df_Withdraw=df[df.Method == \"Withdraw ETH\"]\n",
    "df_Withdraw.head(5)"
   ]
  },
  {
   "cell_type": "code",
   "execution_count": 50,
   "id": "04224562",
   "metadata": {},
   "outputs": [
    {
     "data": {
      "text/html": [
       "<div>\n",
       "<style scoped>\n",
       "    .dataframe tbody tr th:only-of-type {\n",
       "        vertical-align: middle;\n",
       "    }\n",
       "\n",
       "    .dataframe tbody tr th {\n",
       "        vertical-align: top;\n",
       "    }\n",
       "\n",
       "    .dataframe thead th {\n",
       "        text-align: right;\n",
       "    }\n",
       "</style>\n",
       "<table border=\"1\" class=\"dataframe\">\n",
       "  <thead>\n",
       "    <tr style=\"text-align: right;\">\n",
       "      <th></th>\n",
       "      <th>Txn_Hash</th>\n",
       "      <th>Method</th>\n",
       "      <th>Block</th>\n",
       "      <th>Date</th>\n",
       "      <th>From</th>\n",
       "      <th>IN/OUT</th>\n",
       "      <th>Destination</th>\n",
       "      <th>Value</th>\n",
       "      <th>Crypto</th>\n",
       "      <th>TXN_Fee</th>\n",
       "    </tr>\n",
       "  </thead>\n",
       "  <tbody>\n",
       "    <tr>\n",
       "      <th>58660</th>\n",
       "      <td>0xfbbace1c208f0d7472eaf955f710e9cb13efdd2c03bd...</td>\n",
       "      <td>Withdraw ETH</td>\n",
       "      <td>13016161</td>\n",
       "      <td>334 days 2 hrs ago</td>\n",
       "      <td>0x0632b2b918e941140bae0500326eb232cb70dc18</td>\n",
       "      <td>IN</td>\n",
       "      <td>Aave: WETH Gateway</td>\n",
       "      <td>0.001</td>\n",
       "      <td>Ether</td>\n",
       "      <td>0.000599</td>\n",
       "    </tr>\n",
       "  </tbody>\n",
       "</table>\n",
       "</div>"
      ],
      "text/plain": [
       "                                                Txn_Hash        Method  \\\n",
       "58660  0xfbbace1c208f0d7472eaf955f710e9cb13efdd2c03bd...  Withdraw ETH   \n",
       "\n",
       "          Block                Date  \\\n",
       "58660  13016161  334 days 2 hrs ago   \n",
       "\n",
       "                                             From IN/OUT         Destination  \\\n",
       "58660  0x0632b2b918e941140bae0500326eb232cb70dc18     IN  Aave: WETH Gateway   \n",
       "\n",
       "       Value Crypto   TXN_Fee  \n",
       "58660  0.001  Ether  0.000599  "
      ]
     },
     "execution_count": 50,
     "metadata": {},
     "output_type": "execute_result"
    }
   ],
   "source": [
    "df_Withdraw[df_Withdraw.Value == df_Withdraw.Value.max()]"
   ]
  },
  {
   "cell_type": "markdown",
   "id": "2c8f6ec9",
   "metadata": {},
   "source": [
    "- DataFrame des déposit:"
   ]
  },
  {
   "cell_type": "code",
   "execution_count": 51,
   "id": "e326c9e6",
   "metadata": {
    "scrolled": false
   },
   "outputs": [
    {
     "data": {
      "text/html": [
       "<div>\n",
       "<style scoped>\n",
       "    .dataframe tbody tr th:only-of-type {\n",
       "        vertical-align: middle;\n",
       "    }\n",
       "\n",
       "    .dataframe tbody tr th {\n",
       "        vertical-align: top;\n",
       "    }\n",
       "\n",
       "    .dataframe thead th {\n",
       "        text-align: right;\n",
       "    }\n",
       "</style>\n",
       "<table border=\"1\" class=\"dataframe\">\n",
       "  <thead>\n",
       "    <tr style=\"text-align: right;\">\n",
       "      <th></th>\n",
       "      <th>Txn_Hash</th>\n",
       "      <th>Method</th>\n",
       "      <th>Block</th>\n",
       "      <th>Date</th>\n",
       "      <th>From</th>\n",
       "      <th>IN/OUT</th>\n",
       "      <th>Destination</th>\n",
       "      <th>Value</th>\n",
       "      <th>Crypto</th>\n",
       "      <th>TXN_Fee</th>\n",
       "    </tr>\n",
       "  </thead>\n",
       "  <tbody>\n",
       "    <tr>\n",
       "      <th>7</th>\n",
       "      <td>0x04a542357d7ea456bf9dec657d4808921a89dcd513ff...</td>\n",
       "      <td>Deposit ETH</td>\n",
       "      <td>15133599</td>\n",
       "      <td>1 hr 55 mins ago</td>\n",
       "      <td>0xf178b1f6ef1c52597418d842cd155a6892e3e4cc</td>\n",
       "      <td>IN</td>\n",
       "      <td>Aave: WETH Gateway</td>\n",
       "      <td>0.100</td>\n",
       "      <td>Ether</td>\n",
       "      <td>0.003283</td>\n",
       "    </tr>\n",
       "    <tr>\n",
       "      <th>8</th>\n",
       "      <td>0x313e7e3ecb460869825b56f3044bebc75b3866b550ac...</td>\n",
       "      <td>Deposit ETH</td>\n",
       "      <td>15133504</td>\n",
       "      <td>2 hrs 18 mins ago</td>\n",
       "      <td>0x74394656b46c87c81d24675825d1d10f0b84a6a6</td>\n",
       "      <td>IN</td>\n",
       "      <td>Aave: WETH Gateway</td>\n",
       "      <td>0.175</td>\n",
       "      <td>Ether</td>\n",
       "      <td>0.002210</td>\n",
       "    </tr>\n",
       "    <tr>\n",
       "      <th>9</th>\n",
       "      <td>0xe17badb4a9c91d0a090e1080487d1852290bf0c8cef1...</td>\n",
       "      <td>Deposit ETH</td>\n",
       "      <td>15133500</td>\n",
       "      <td>2 hrs 19 mins ago</td>\n",
       "      <td>0xb32f88b89365d428751aa060ab1f983d012ac423</td>\n",
       "      <td>IN</td>\n",
       "      <td>Aave: WETH Gateway</td>\n",
       "      <td>1.300</td>\n",
       "      <td>Ether</td>\n",
       "      <td>0.002398</td>\n",
       "    </tr>\n",
       "    <tr>\n",
       "      <th>10</th>\n",
       "      <td>0x2b11b11746e60085595377ea3be845162f6bc9b0c822...</td>\n",
       "      <td>Deposit ETH</td>\n",
       "      <td>15133474</td>\n",
       "      <td>2 hrs 25 mins ago</td>\n",
       "      <td>0x74394656b46c87c81d24675825d1d10f0b84a6a6</td>\n",
       "      <td>IN</td>\n",
       "      <td>Aave: WETH Gateway</td>\n",
       "      <td>0.100</td>\n",
       "      <td>Ether</td>\n",
       "      <td>0.002220</td>\n",
       "    </tr>\n",
       "    <tr>\n",
       "      <th>13</th>\n",
       "      <td>0x3882605706ea5462ca894d42a70354ddf1d941a98334...</td>\n",
       "      <td>Deposit ETH</td>\n",
       "      <td>15133321</td>\n",
       "      <td>3 hrs 1 min ago</td>\n",
       "      <td>0xfbebc529367266038a1e8be0a0bb7069e792e80d</td>\n",
       "      <td>IN</td>\n",
       "      <td>Aave: WETH Gateway</td>\n",
       "      <td>2.800</td>\n",
       "      <td>Ether</td>\n",
       "      <td>0.005416</td>\n",
       "    </tr>\n",
       "  </tbody>\n",
       "</table>\n",
       "</div>"
      ],
      "text/plain": [
       "                                             Txn_Hash       Method     Block  \\\n",
       "7   0x04a542357d7ea456bf9dec657d4808921a89dcd513ff...  Deposit ETH  15133599   \n",
       "8   0x313e7e3ecb460869825b56f3044bebc75b3866b550ac...  Deposit ETH  15133504   \n",
       "9   0xe17badb4a9c91d0a090e1080487d1852290bf0c8cef1...  Deposit ETH  15133500   \n",
       "10  0x2b11b11746e60085595377ea3be845162f6bc9b0c822...  Deposit ETH  15133474   \n",
       "13  0x3882605706ea5462ca894d42a70354ddf1d941a98334...  Deposit ETH  15133321   \n",
       "\n",
       "                 Date                                        From IN/OUT  \\\n",
       "7    1 hr 55 mins ago  0xf178b1f6ef1c52597418d842cd155a6892e3e4cc     IN   \n",
       "8   2 hrs 18 mins ago  0x74394656b46c87c81d24675825d1d10f0b84a6a6     IN   \n",
       "9   2 hrs 19 mins ago  0xb32f88b89365d428751aa060ab1f983d012ac423     IN   \n",
       "10  2 hrs 25 mins ago  0x74394656b46c87c81d24675825d1d10f0b84a6a6     IN   \n",
       "13    3 hrs 1 min ago  0xfbebc529367266038a1e8be0a0bb7069e792e80d     IN   \n",
       "\n",
       "           Destination  Value Crypto   TXN_Fee  \n",
       "7   Aave: WETH Gateway  0.100  Ether  0.003283  \n",
       "8   Aave: WETH Gateway  0.175  Ether  0.002210  \n",
       "9   Aave: WETH Gateway  1.300  Ether  0.002398  \n",
       "10  Aave: WETH Gateway  0.100  Ether  0.002220  \n",
       "13  Aave: WETH Gateway  2.800  Ether  0.005416  "
      ]
     },
     "execution_count": 51,
     "metadata": {},
     "output_type": "execute_result"
    }
   ],
   "source": [
    "df_Deposit=df[df.Method == \"Deposit ETH\"]\n",
    "df_Deposit.head(5)"
   ]
  },
  {
   "cell_type": "code",
   "execution_count": 122,
   "id": "b10f234c",
   "metadata": {
    "scrolled": true
   },
   "outputs": [],
   "source": [
    "df_Deposit.reset_index(inplace=True, drop=True)\n",
    "df_Deposit.to_csv(\"DataFrame_Deposit.csv\")"
   ]
  },
  {
   "cell_type": "code",
   "execution_count": 123,
   "id": "cd875eb6",
   "metadata": {
    "scrolled": false
   },
   "outputs": [
    {
     "data": {
      "text/plain": [
       "<AxesSubplot:xlabel='Value', ylabel='TXN_Fee'>"
      ]
     },
     "execution_count": 123,
     "metadata": {},
     "output_type": "execute_result"
    },
    {
     "data": {
      "image/png": "[encoded data removed]",
      "text/plain": [
       "<Figure size 432x288 with 1 Axes>"
      ]
     },
     "metadata": {
      "needs_background": "light"
     },
     "output_type": "display_data"
    }
   ],
   "source": [
    "df_Deposit.plot.scatter(x='Value',y=\"TXN_Fee\")"
   ]
  },
  {
   "cell_type": "code",
   "execution_count": 162,
   "id": "8c08874d",
   "metadata": {
    "scrolled": true
   },
   "outputs": [],
   "source": [
    "L=[] # Liste des adress qui ont fait les déposits (avec doublons)\n",
    "for i in range(55771):\n",
    "    L.append(df_Deposit.From[i])\n",
    "#print(L)"
   ]
  },
  {
   "cell_type": "code",
   "execution_count": 163,
   "id": "c64700b6",
   "metadata": {
    "scrolled": false
   },
   "outputs": [
    {
     "name": "stdout",
     "output_type": "stream",
     "text": [
      "17901\n"
     ]
    }
   ],
   "source": [
    "mylist2 = set(L)     #mylist2 est la liste des adress qui ont fait des deposits (sans doublons)\n",
    "mylist2 = list(mylist2)\n",
    "print(len(mylist2))\n"
   ]
  },
  {
   "cell_type": "code",
   "execution_count": 164,
   "id": "48a848a8",
   "metadata": {
    "scrolled": false
   },
   "outputs": [
    {
     "name": "stdout",
     "output_type": "stream",
     "text": [
      "55771\n"
     ]
    }
   ],
   "source": [
    "print(len(L))"
   ]
  },
  {
   "cell_type": "markdown",
   "id": "128d5f13",
   "metadata": {},
   "source": [
    "- construction d'un dataframe"
   ]
  },
  {
   "cell_type": "code",
   "execution_count": 165,
   "id": "b21deb54",
   "metadata": {
    "scrolled": false
   },
   "outputs": [
    {
     "name": "stdout",
     "output_type": "stream",
     "text": [
      "17901\n"
     ]
    }
   ],
   "source": [
    "nombre_occurence_adresse=[]\n",
    "for i in mylist2:\n",
    "    a=L.count(i)\n",
    "    nombre_occurence_adresse.append(a)\n",
    "print(len(nombre_occurence_adresse))"
   ]
  },
  {
   "cell_type": "code",
   "execution_count": 166,
   "id": "0f348ef0",
   "metadata": {},
   "outputs": [
    {
     "name": "stdout",
     "output_type": "stream",
     "text": [
      "17901\n"
     ]
    }
   ],
   "source": [
    "Valeur=[]\n",
    "for i in mylist2:\n",
    "    c=0\n",
    "    for j in range(55771):\n",
    "        if L[j]==i:\n",
    "            c=c+df_Deposit.Value[j]\n",
    "    Valeur.append(c)\n",
    "print(len(Valeur))"
   ]
  },
  {
   "cell_type": "code",
   "execution_count": 167,
   "id": "07140afb",
   "metadata": {},
   "outputs": [],
   "source": [
    "\n",
    "data = {'Adresse':mylist2,'Nombre_occurences':nombre_occurence_adresse,'Valeur_Deposit_totale' :Valeur}\n",
    "df_adrr_val=pd.DataFrame(data)"
   ]
  },
  {
   "cell_type": "code",
   "execution_count": 168,
   "id": "660df341",
   "metadata": {
    "scrolled": true
   },
   "outputs": [
    {
     "data": {
      "text/html": [
       "<div>\n",
       "<style scoped>\n",
       "    .dataframe tbody tr th:only-of-type {\n",
       "        vertical-align: middle;\n",
       "    }\n",
       "\n",
       "    .dataframe tbody tr th {\n",
       "        vertical-align: top;\n",
       "    }\n",
       "\n",
       "    .dataframe thead th {\n",
       "        text-align: right;\n",
       "    }\n",
       "</style>\n",
       "<table border=\"1\" class=\"dataframe\">\n",
       "  <thead>\n",
       "    <tr style=\"text-align: right;\">\n",
       "      <th></th>\n",
       "      <th>Adresse</th>\n",
       "      <th>Nombre_occurences</th>\n",
       "      <th>Valeur_Deposit_totale</th>\n",
       "    </tr>\n",
       "  </thead>\n",
       "  <tbody>\n",
       "    <tr>\n",
       "      <th>0</th>\n",
       "      <td>0x0adf1fbcae6b16d96d30685d2e0d92dab8639d3a</td>\n",
       "      <td>1</td>\n",
       "      <td>0.250000</td>\n",
       "    </tr>\n",
       "    <tr>\n",
       "      <th>1</th>\n",
       "      <td>0x2db6f5e838ed2bad993e9ff2d3d7a5c1cc35704c</td>\n",
       "      <td>3</td>\n",
       "      <td>73.065401</td>\n",
       "    </tr>\n",
       "    <tr>\n",
       "      <th>2</th>\n",
       "      <td>0xb9f92e050e54e00ae43531e5502a377cc65c7ceb</td>\n",
       "      <td>1</td>\n",
       "      <td>0.000010</td>\n",
       "    </tr>\n",
       "    <tr>\n",
       "      <th>3</th>\n",
       "      <td>0x25bebf37aaeda610dde45afcdb23c99bcc9b95b3</td>\n",
       "      <td>1</td>\n",
       "      <td>0.020000</td>\n",
       "    </tr>\n",
       "    <tr>\n",
       "      <th>4</th>\n",
       "      <td>thecrypt.eth</td>\n",
       "      <td>1</td>\n",
       "      <td>0.175290</td>\n",
       "    </tr>\n",
       "    <tr>\n",
       "      <th>...</th>\n",
       "      <td>...</td>\n",
       "      <td>...</td>\n",
       "      <td>...</td>\n",
       "    </tr>\n",
       "    <tr>\n",
       "      <th>17896</th>\n",
       "      <td>0x219cbdcad9ee74f696ea066d3027a3372e8c9bc1</td>\n",
       "      <td>1</td>\n",
       "      <td>0.010501</td>\n",
       "    </tr>\n",
       "    <tr>\n",
       "      <th>17897</th>\n",
       "      <td>0x8454b825b2d4ea2b0e2f6e2cfbc4d4d24f145699</td>\n",
       "      <td>2</td>\n",
       "      <td>51.000000</td>\n",
       "    </tr>\n",
       "    <tr>\n",
       "      <th>17898</th>\n",
       "      <td>0x63a70edd511e7b160441f8203fa9f0c83047c4fd</td>\n",
       "      <td>2</td>\n",
       "      <td>1.130553</td>\n",
       "    </tr>\n",
       "    <tr>\n",
       "      <th>17899</th>\n",
       "      <td>0xac3ca12d6a07ea7252515c72b895be1718b8df02</td>\n",
       "      <td>1</td>\n",
       "      <td>2.000000</td>\n",
       "    </tr>\n",
       "    <tr>\n",
       "      <th>17900</th>\n",
       "      <td>0x0120b4134354d7e885685a23e7606ccaf7d0b2b4</td>\n",
       "      <td>3</td>\n",
       "      <td>604.000000</td>\n",
       "    </tr>\n",
       "  </tbody>\n",
       "</table>\n",
       "<p>17901 rows × 3 columns</p>\n",
       "</div>"
      ],
      "text/plain": [
       "                                          Adresse  Nombre_occurences  \\\n",
       "0      0x0adf1fbcae6b16d96d30685d2e0d92dab8639d3a                  1   \n",
       "1      0x2db6f5e838ed2bad993e9ff2d3d7a5c1cc35704c                  3   \n",
       "2      0xb9f92e050e54e00ae43531e5502a377cc65c7ceb                  1   \n",
       "3      0x25bebf37aaeda610dde45afcdb23c99bcc9b95b3                  1   \n",
       "4                                    thecrypt.eth                  1   \n",
       "...                                           ...                ...   \n",
       "17896  0x219cbdcad9ee74f696ea066d3027a3372e8c9bc1                  1   \n",
       "17897  0x8454b825b2d4ea2b0e2f6e2cfbc4d4d24f145699                  2   \n",
       "17898  0x63a70edd511e7b160441f8203fa9f0c83047c4fd                  2   \n",
       "17899  0xac3ca12d6a07ea7252515c72b895be1718b8df02                  1   \n",
       "17900  0x0120b4134354d7e885685a23e7606ccaf7d0b2b4                  3   \n",
       "\n",
       "       Valeur_Deposit_totale  \n",
       "0                   0.250000  \n",
       "1                  73.065401  \n",
       "2                   0.000010  \n",
       "3                   0.020000  \n",
       "4                   0.175290  \n",
       "...                      ...  \n",
       "17896               0.010501  \n",
       "17897              51.000000  \n",
       "17898               1.130553  \n",
       "17899               2.000000  \n",
       "17900             604.000000  \n",
       "\n",
       "[17901 rows x 3 columns]"
      ]
     },
     "execution_count": 168,
     "metadata": {},
     "output_type": "execute_result"
    }
   ],
   "source": [
    "df_adrr_val"
   ]
  },
  {
   "cell_type": "code",
   "execution_count": 169,
   "id": "dd9f5844",
   "metadata": {},
   "outputs": [],
   "source": [
    "df_adrr_val.to_csv(\"DataFrame_Deposit_per_Adress.csv\")"
   ]
  },
  {
   "cell_type": "markdown",
   "id": "41ff1045",
   "metadata": {},
   "source": [
    "- DataFrame des Borrow:"
   ]
  },
  {
   "cell_type": "code",
   "execution_count": 138,
   "id": "6bda6689",
   "metadata": {
    "scrolled": true
   },
   "outputs": [],
   "source": [
    "df_Borrow=df[df.Method == \"Borrow ETH\"]\n",
    "df_Borrow.reset_index(inplace=True, drop=True)\n",
    "df_Borrow.to_csv(\"DataFrame_Borrow.csv\")"
   ]
  },
  {
   "cell_type": "code",
   "execution_count": 139,
   "id": "4cf92d38",
   "metadata": {},
   "outputs": [
    {
     "data": {
      "text/html": [
       "<div>\n",
       "<style scoped>\n",
       "    .dataframe tbody tr th:only-of-type {\n",
       "        vertical-align: middle;\n",
       "    }\n",
       "\n",
       "    .dataframe tbody tr th {\n",
       "        vertical-align: top;\n",
       "    }\n",
       "\n",
       "    .dataframe thead th {\n",
       "        text-align: right;\n",
       "    }\n",
       "</style>\n",
       "<table border=\"1\" class=\"dataframe\">\n",
       "  <thead>\n",
       "    <tr style=\"text-align: right;\">\n",
       "      <th></th>\n",
       "      <th>Txn_Hash</th>\n",
       "      <th>Method</th>\n",
       "      <th>Block</th>\n",
       "      <th>Date</th>\n",
       "      <th>From</th>\n",
       "      <th>IN/OUT</th>\n",
       "      <th>Destination</th>\n",
       "      <th>Value</th>\n",
       "      <th>Crypto</th>\n",
       "      <th>TXN_Fee</th>\n",
       "    </tr>\n",
       "  </thead>\n",
       "  <tbody>\n",
       "    <tr>\n",
       "      <th>0</th>\n",
       "      <td>0x0ee3d74556bad0c2a38bab8618c5b89757eb81fa8e8f...</td>\n",
       "      <td>Borrow ETH</td>\n",
       "      <td>15133387</td>\n",
       "      <td>2 hrs 45 mins ago</td>\n",
       "      <td>0x1109297e392d92c1613fdbdf30579a0215c20da9</td>\n",
       "      <td>IN</td>\n",
       "      <td>Aave: WETH Gateway</td>\n",
       "      <td>0.0</td>\n",
       "      <td>Ether</td>\n",
       "      <td>0.011497</td>\n",
       "    </tr>\n",
       "    <tr>\n",
       "      <th>1</th>\n",
       "      <td>0x6451b375f70348703904be068ebbdeaa994d0bf2b3ab...</td>\n",
       "      <td>Borrow ETH</td>\n",
       "      <td>15132927</td>\n",
       "      <td>4 hrs 28 mins ago</td>\n",
       "      <td>0x31d6e97282e76450f04e91c13bfc47f1fb27b0b6</td>\n",
       "      <td>IN</td>\n",
       "      <td>Aave: WETH Gateway</td>\n",
       "      <td>0.0</td>\n",
       "      <td>Ether</td>\n",
       "      <td>0.008015</td>\n",
       "    </tr>\n",
       "    <tr>\n",
       "      <th>2</th>\n",
       "      <td>0xf3fe2bad049d72d0a519859f547ddb24b43b087345db...</td>\n",
       "      <td>Borrow ETH</td>\n",
       "      <td>15132688</td>\n",
       "      <td>5 hrs 24 mins ago</td>\n",
       "      <td>0x858256cc555b4ab1a2220abda500859a62211579</td>\n",
       "      <td>IN</td>\n",
       "      <td>Aave: WETH Gateway</td>\n",
       "      <td>0.0</td>\n",
       "      <td>Ether</td>\n",
       "      <td>0.002880</td>\n",
       "    </tr>\n",
       "    <tr>\n",
       "      <th>3</th>\n",
       "      <td>0x25ff9de5cb73aebe6a7367b88cb0b170ac7cfb774673...</td>\n",
       "      <td>Borrow ETH</td>\n",
       "      <td>15132679</td>\n",
       "      <td>5 hrs 25 mins ago</td>\n",
       "      <td>0x2834815a451562e1d469e1e38fc728d57e2879ee</td>\n",
       "      <td>IN</td>\n",
       "      <td>Aave: WETH Gateway</td>\n",
       "      <td>0.0</td>\n",
       "      <td>Ether</td>\n",
       "      <td>0.004881</td>\n",
       "    </tr>\n",
       "    <tr>\n",
       "      <th>4</th>\n",
       "      <td>0xb0401cc054fe24710d7eac73f5a7c9185781ade6cbe6...</td>\n",
       "      <td>Borrow ETH</td>\n",
       "      <td>15132643</td>\n",
       "      <td>5 hrs 32 mins ago</td>\n",
       "      <td>onlychans.eth</td>\n",
       "      <td>IN</td>\n",
       "      <td>Aave: WETH Gateway</td>\n",
       "      <td>0.0</td>\n",
       "      <td>Ether</td>\n",
       "      <td>0.004413</td>\n",
       "    </tr>\n",
       "  </tbody>\n",
       "</table>\n",
       "</div>"
      ],
      "text/plain": [
       "                                            Txn_Hash      Method     Block  \\\n",
       "0  0x0ee3d74556bad0c2a38bab8618c5b89757eb81fa8e8f...  Borrow ETH  15133387   \n",
       "1  0x6451b375f70348703904be068ebbdeaa994d0bf2b3ab...  Borrow ETH  15132927   \n",
       "2  0xf3fe2bad049d72d0a519859f547ddb24b43b087345db...  Borrow ETH  15132688   \n",
       "3  0x25ff9de5cb73aebe6a7367b88cb0b170ac7cfb774673...  Borrow ETH  15132679   \n",
       "4  0xb0401cc054fe24710d7eac73f5a7c9185781ade6cbe6...  Borrow ETH  15132643   \n",
       "\n",
       "                Date                                        From IN/OUT  \\\n",
       "0  2 hrs 45 mins ago  0x1109297e392d92c1613fdbdf30579a0215c20da9     IN   \n",
       "1  4 hrs 28 mins ago  0x31d6e97282e76450f04e91c13bfc47f1fb27b0b6     IN   \n",
       "2  5 hrs 24 mins ago  0x858256cc555b4ab1a2220abda500859a62211579     IN   \n",
       "3  5 hrs 25 mins ago  0x2834815a451562e1d469e1e38fc728d57e2879ee     IN   \n",
       "4  5 hrs 32 mins ago                               onlychans.eth     IN   \n",
       "\n",
       "          Destination  Value Crypto   TXN_Fee  \n",
       "0  Aave: WETH Gateway    0.0  Ether  0.011497  \n",
       "1  Aave: WETH Gateway    0.0  Ether  0.008015  \n",
       "2  Aave: WETH Gateway    0.0  Ether  0.002880  \n",
       "3  Aave: WETH Gateway    0.0  Ether  0.004881  \n",
       "4  Aave: WETH Gateway    0.0  Ether  0.004413  "
      ]
     },
     "execution_count": 139,
     "metadata": {},
     "output_type": "execute_result"
    }
   ],
   "source": [
    "df_Borrow.head(5)"
   ]
  },
  {
   "cell_type": "code",
   "execution_count": 127,
   "id": "0a705418",
   "metadata": {
    "scrolled": true
   },
   "outputs": [
    {
     "data": {
      "text/plain": [
       "0.0"
      ]
     },
     "execution_count": 127,
     "metadata": {},
     "output_type": "execute_result"
    }
   ],
   "source": [
    "df_Borrow.Value.max()"
   ]
  },
  {
   "cell_type": "markdown",
   "id": "23557804",
   "metadata": {},
   "source": [
    "Les Borrow ont tous une valeur de 0 ETH (étrange)"
   ]
  },
  {
   "cell_type": "markdown",
   "id": "92be9cbd",
   "metadata": {},
   "source": [
    "- DataFrame des Repay:"
   ]
  },
  {
   "cell_type": "code",
   "execution_count": 134,
   "id": "c666343d",
   "metadata": {
    "scrolled": true
   },
   "outputs": [],
   "source": [
    "df_Repay=df[df.Method==\"Repay ETH\"]\n",
    "df_Repay.reset_index(inplace=True, drop=True)\n",
    "df_Repay.to_csv(\"DataFrame_Repay.csv\")"
   ]
  },
  {
   "cell_type": "code",
   "execution_count": 140,
   "id": "ae6f5699",
   "metadata": {
    "scrolled": true
   },
   "outputs": [
    {
     "data": {
      "text/html": [
       "<div>\n",
       "<style scoped>\n",
       "    .dataframe tbody tr th:only-of-type {\n",
       "        vertical-align: middle;\n",
       "    }\n",
       "\n",
       "    .dataframe tbody tr th {\n",
       "        vertical-align: top;\n",
       "    }\n",
       "\n",
       "    .dataframe thead th {\n",
       "        text-align: right;\n",
       "    }\n",
       "</style>\n",
       "<table border=\"1\" class=\"dataframe\">\n",
       "  <thead>\n",
       "    <tr style=\"text-align: right;\">\n",
       "      <th></th>\n",
       "      <th>Txn_Hash</th>\n",
       "      <th>Method</th>\n",
       "      <th>Block</th>\n",
       "      <th>Date</th>\n",
       "      <th>From</th>\n",
       "      <th>IN/OUT</th>\n",
       "      <th>Destination</th>\n",
       "      <th>Value</th>\n",
       "      <th>Crypto</th>\n",
       "      <th>TXN_Fee</th>\n",
       "    </tr>\n",
       "  </thead>\n",
       "  <tbody>\n",
       "    <tr>\n",
       "      <th>0</th>\n",
       "      <td>0x5b2a24cf74ef6dbc0e11818517ed5c0948541c6c2d55...</td>\n",
       "      <td>Repay ETH</td>\n",
       "      <td>15133709</td>\n",
       "      <td>1 hr 31 mins ago</td>\n",
       "      <td>0xcd64bb95ee1b3a95586836d636849b71b871732b</td>\n",
       "      <td>IN</td>\n",
       "      <td>Aave: WETH Gateway</td>\n",
       "      <td>28.091154</td>\n",
       "      <td>Ether</td>\n",
       "      <td>0.004664</td>\n",
       "    </tr>\n",
       "    <tr>\n",
       "      <th>1</th>\n",
       "      <td>0x3f89e2870113c6d94779b9b7cdb75a3c3a139cae694b...</td>\n",
       "      <td>Repay ETH</td>\n",
       "      <td>15133622</td>\n",
       "      <td>1 hr 49 mins ago</td>\n",
       "      <td>0xcd64bb95ee1b3a95586836d636849b71b871732b</td>\n",
       "      <td>IN</td>\n",
       "      <td>Aave: WETH Gateway</td>\n",
       "      <td>19.000000</td>\n",
       "      <td>Ether</td>\n",
       "      <td>0.003769</td>\n",
       "    </tr>\n",
       "    <tr>\n",
       "      <th>2</th>\n",
       "      <td>0x1839d047ec768283c6a649af3d9c6e085f91f97fe108...</td>\n",
       "      <td>Repay ETH</td>\n",
       "      <td>15132028</td>\n",
       "      <td>7 hrs 46 mins ago</td>\n",
       "      <td>0x87d3ee8cc75c3916e3b6f56e307aadcd3afeff68</td>\n",
       "      <td>IN</td>\n",
       "      <td>Aave: WETH Gateway</td>\n",
       "      <td>300.000000</td>\n",
       "      <td>Ether</td>\n",
       "      <td>0.004391</td>\n",
       "    </tr>\n",
       "    <tr>\n",
       "      <th>3</th>\n",
       "      <td>0x0299fac3318ac9c9644784f307f8870a32edc4b53b08...</td>\n",
       "      <td>Repay ETH</td>\n",
       "      <td>15130281</td>\n",
       "      <td>14 hrs 25 mins ago</td>\n",
       "      <td>0xbfa6190743b1179e674508585de4552af3d87d02</td>\n",
       "      <td>IN</td>\n",
       "      <td>Aave: WETH Gateway</td>\n",
       "      <td>0.700000</td>\n",
       "      <td>Ether</td>\n",
       "      <td>0.007327</td>\n",
       "    </tr>\n",
       "    <tr>\n",
       "      <th>4</th>\n",
       "      <td>0x392ddfb8d8d8f3137b7dd6386fdff4b4e014b3a71f1d...</td>\n",
       "      <td>Repay ETH</td>\n",
       "      <td>15130110</td>\n",
       "      <td>14 hrs 59 mins ago</td>\n",
       "      <td>0x8a07fa8afa2c54bc47da559a0ab4bc15b43bc897</td>\n",
       "      <td>IN</td>\n",
       "      <td>Aave: WETH Gateway</td>\n",
       "      <td>25.460000</td>\n",
       "      <td>Ether</td>\n",
       "      <td>0.012598</td>\n",
       "    </tr>\n",
       "    <tr>\n",
       "      <th>...</th>\n",
       "      <td>...</td>\n",
       "      <td>...</td>\n",
       "      <td>...</td>\n",
       "      <td>...</td>\n",
       "      <td>...</td>\n",
       "      <td>...</td>\n",
       "      <td>...</td>\n",
       "      <td>...</td>\n",
       "      <td>...</td>\n",
       "      <td>...</td>\n",
       "    </tr>\n",
       "    <tr>\n",
       "      <th>5962</th>\n",
       "      <td>0x65cecfa422a27f9ad5b76db6b0fc915b57badede2e2f...</td>\n",
       "      <td>Repay ETH</td>\n",
       "      <td>12295160</td>\n",
       "      <td>446 days 4 hrs ago</td>\n",
       "      <td>0xd34f3e85bb7c8020c7959b80a4b87a369d639dc0</td>\n",
       "      <td>IN</td>\n",
       "      <td>Aave: WETH Gateway</td>\n",
       "      <td>416.033472</td>\n",
       "      <td>Ether</td>\n",
       "      <td>0.027908</td>\n",
       "    </tr>\n",
       "    <tr>\n",
       "      <th>5963</th>\n",
       "      <td>0xce8175337358dfff5e5bed1d1a72b1b78aa89b03f2d2...</td>\n",
       "      <td>Repay ETH</td>\n",
       "      <td>12294302</td>\n",
       "      <td>446 days 7 hrs ago</td>\n",
       "      <td>0xbb4567bef67153e5a4d4bd1a8c6aae5234b34e2b</td>\n",
       "      <td>IN</td>\n",
       "      <td>Aave: WETH Gateway</td>\n",
       "      <td>3.242836</td>\n",
       "      <td>Ether</td>\n",
       "      <td>0.024724</td>\n",
       "    </tr>\n",
       "    <tr>\n",
       "      <th>5964</th>\n",
       "      <td>0xf360aaf2ee702d4cdbff40f457ce0481dc200bba3d5f...</td>\n",
       "      <td>Repay ETH</td>\n",
       "      <td>12294257</td>\n",
       "      <td>446 days 7 hrs ago</td>\n",
       "      <td>0xbb4567bef67153e5a4d4bd1a8c6aae5234b34e2b</td>\n",
       "      <td>IN</td>\n",
       "      <td>Aave: WETH Gateway</td>\n",
       "      <td>3.000000</td>\n",
       "      <td>Ether</td>\n",
       "      <td>0.032357</td>\n",
       "    </tr>\n",
       "    <tr>\n",
       "      <th>5965</th>\n",
       "      <td>0xda85dfd5a91b30479e0096f73de1eb93895429d5096f...</td>\n",
       "      <td>Repay ETH</td>\n",
       "      <td>12294054</td>\n",
       "      <td>446 days 8 hrs ago</td>\n",
       "      <td>0xb8fc6fd16ab5f3b6652c6580c8b6208ddbd8b8a5</td>\n",
       "      <td>IN</td>\n",
       "      <td>Aave: WETH Gateway</td>\n",
       "      <td>42.113603</td>\n",
       "      <td>Ether</td>\n",
       "      <td>0.050337</td>\n",
       "    </tr>\n",
       "    <tr>\n",
       "      <th>5966</th>\n",
       "      <td>0xf97cc92f9861b304fde5c63fe186926a05dedb56ffe5...</td>\n",
       "      <td>Repay ETH</td>\n",
       "      <td>12293852</td>\n",
       "      <td>446 days 9 hrs ago</td>\n",
       "      <td>0x2de640a18fe3480aa802aca91f70177ada103391</td>\n",
       "      <td>IN</td>\n",
       "      <td>Aave: WETH Gateway</td>\n",
       "      <td>500.000000</td>\n",
       "      <td>Ether</td>\n",
       "      <td>0.059676</td>\n",
       "    </tr>\n",
       "  </tbody>\n",
       "</table>\n",
       "<p>5967 rows × 10 columns</p>\n",
       "</div>"
      ],
      "text/plain": [
       "                                               Txn_Hash     Method     Block  \\\n",
       "0     0x5b2a24cf74ef6dbc0e11818517ed5c0948541c6c2d55...  Repay ETH  15133709   \n",
       "1     0x3f89e2870113c6d94779b9b7cdb75a3c3a139cae694b...  Repay ETH  15133622   \n",
       "2     0x1839d047ec768283c6a649af3d9c6e085f91f97fe108...  Repay ETH  15132028   \n",
       "3     0x0299fac3318ac9c9644784f307f8870a32edc4b53b08...  Repay ETH  15130281   \n",
       "4     0x392ddfb8d8d8f3137b7dd6386fdff4b4e014b3a71f1d...  Repay ETH  15130110   \n",
       "...                                                 ...        ...       ...   \n",
       "5962  0x65cecfa422a27f9ad5b76db6b0fc915b57badede2e2f...  Repay ETH  12295160   \n",
       "5963  0xce8175337358dfff5e5bed1d1a72b1b78aa89b03f2d2...  Repay ETH  12294302   \n",
       "5964  0xf360aaf2ee702d4cdbff40f457ce0481dc200bba3d5f...  Repay ETH  12294257   \n",
       "5965  0xda85dfd5a91b30479e0096f73de1eb93895429d5096f...  Repay ETH  12294054   \n",
       "5966  0xf97cc92f9861b304fde5c63fe186926a05dedb56ffe5...  Repay ETH  12293852   \n",
       "\n",
       "                    Date                                        From IN/OUT  \\\n",
       "0       1 hr 31 mins ago  0xcd64bb95ee1b3a95586836d636849b71b871732b     IN   \n",
       "1       1 hr 49 mins ago  0xcd64bb95ee1b3a95586836d636849b71b871732b     IN   \n",
       "2      7 hrs 46 mins ago  0x87d3ee8cc75c3916e3b6f56e307aadcd3afeff68     IN   \n",
       "3     14 hrs 25 mins ago  0xbfa6190743b1179e674508585de4552af3d87d02     IN   \n",
       "4     14 hrs 59 mins ago  0x8a07fa8afa2c54bc47da559a0ab4bc15b43bc897     IN   \n",
       "...                  ...                                         ...    ...   \n",
       "5962  446 days 4 hrs ago  0xd34f3e85bb7c8020c7959b80a4b87a369d639dc0     IN   \n",
       "5963  446 days 7 hrs ago  0xbb4567bef67153e5a4d4bd1a8c6aae5234b34e2b     IN   \n",
       "5964  446 days 7 hrs ago  0xbb4567bef67153e5a4d4bd1a8c6aae5234b34e2b     IN   \n",
       "5965  446 days 8 hrs ago  0xb8fc6fd16ab5f3b6652c6580c8b6208ddbd8b8a5     IN   \n",
       "5966  446 days 9 hrs ago  0x2de640a18fe3480aa802aca91f70177ada103391     IN   \n",
       "\n",
       "             Destination       Value Crypto   TXN_Fee  \n",
       "0     Aave: WETH Gateway   28.091154  Ether  0.004664  \n",
       "1     Aave: WETH Gateway   19.000000  Ether  0.003769  \n",
       "2     Aave: WETH Gateway  300.000000  Ether  0.004391  \n",
       "3     Aave: WETH Gateway    0.700000  Ether  0.007327  \n",
       "4     Aave: WETH Gateway   25.460000  Ether  0.012598  \n",
       "...                  ...         ...    ...       ...  \n",
       "5962  Aave: WETH Gateway  416.033472  Ether  0.027908  \n",
       "5963  Aave: WETH Gateway    3.242836  Ether  0.024724  \n",
       "5964  Aave: WETH Gateway    3.000000  Ether  0.032357  \n",
       "5965  Aave: WETH Gateway   42.113603  Ether  0.050337  \n",
       "5966  Aave: WETH Gateway  500.000000  Ether  0.059676  \n",
       "\n",
       "[5967 rows x 10 columns]"
      ]
     },
     "execution_count": 140,
     "metadata": {},
     "output_type": "execute_result"
    }
   ],
   "source": [
    "df_Repay"
   ]
  },
  {
   "cell_type": "code",
   "execution_count": 58,
   "id": "4834de75",
   "metadata": {
    "scrolled": true
   },
   "outputs": [
    {
     "data": {
      "text/plain": [
       "<AxesSubplot:xlabel='Value', ylabel='TXN_Fee'>"
      ]
     },
     "execution_count": 58,
     "metadata": {},
     "output_type": "execute_result"
    },
    {
     "data": {
      "image/png": "[encoded data removed]",
      "text/plain": [
       "<Figure size 432x288 with 1 Axes>"
      ]
     },
     "metadata": {
      "needs_background": "light"
     },
     "output_type": "display_data"
    }
   ],
   "source": [
    "df_Repay.plot.scatter(x='Value',y=\"TXN_Fee\")"
   ]
  },
  {
   "cell_type": "code",
   "execution_count": 141,
   "id": "85ea8a38",
   "metadata": {},
   "outputs": [
    {
     "name": "stdout",
     "output_type": "stream",
     "text": [
      "5967\n"
     ]
    }
   ],
   "source": [
    "L=[] # Liste des adress qui ont fait les Repay (avec doublons)\n",
    "for i in range(5967):\n",
    "    L.append(df_Repay.From[i])\n",
    "print(len(L))"
   ]
  },
  {
   "cell_type": "code",
   "execution_count": 142,
   "id": "97b5cc06",
   "metadata": {},
   "outputs": [
    {
     "name": "stdout",
     "output_type": "stream",
     "text": [
      "2310\n"
     ]
    }
   ],
   "source": [
    "mylist2 = set(L)     #mylist2 est la liste des adress qui ont fait des Repay (sans doublons)\n",
    "mylist2 = list(mylist2)\n",
    "print(len(mylist2))"
   ]
  },
  {
   "cell_type": "code",
   "execution_count": 143,
   "id": "e3f23c19",
   "metadata": {},
   "outputs": [
    {
     "name": "stdout",
     "output_type": "stream",
     "text": [
      "2310\n"
     ]
    }
   ],
   "source": [
    "nombre_occurence_adresse=[]\n",
    "for i in mylist2:\n",
    "    a=L.count(i)\n",
    "    nombre_occurence_adresse.append(a)\n",
    "print(len(nombre_occurence_adresse))"
   ]
  },
  {
   "cell_type": "code",
   "execution_count": 145,
   "id": "08afae77",
   "metadata": {},
   "outputs": [
    {
     "name": "stdout",
     "output_type": "stream",
     "text": [
      "2310\n"
     ]
    }
   ],
   "source": [
    "Valeur=[]\n",
    "for i in mylist2:\n",
    "    c=0\n",
    "    for j in range(5967):\n",
    "        if L[j]==i:\n",
    "            c=c+df_Repay.Value[j]\n",
    "    Valeur.append(c)\n",
    "print(len(Valeur))"
   ]
  },
  {
   "cell_type": "code",
   "execution_count": 146,
   "id": "fefceb9c",
   "metadata": {},
   "outputs": [],
   "source": [
    "data = {'Adresse':mylist2,'Nombre_occurences':nombre_occurence_adresse,'Valeur_Repay_totale' :Valeur}\n",
    "df_adrr_val=pd.DataFrame(data)"
   ]
  },
  {
   "cell_type": "code",
   "execution_count": 148,
   "id": "b963584b",
   "metadata": {
    "scrolled": true
   },
   "outputs": [
    {
     "data": {
      "text/html": [
       "<div>\n",
       "<style scoped>\n",
       "    .dataframe tbody tr th:only-of-type {\n",
       "        vertical-align: middle;\n",
       "    }\n",
       "\n",
       "    .dataframe tbody tr th {\n",
       "        vertical-align: top;\n",
       "    }\n",
       "\n",
       "    .dataframe thead th {\n",
       "        text-align: right;\n",
       "    }\n",
       "</style>\n",
       "<table border=\"1\" class=\"dataframe\">\n",
       "  <thead>\n",
       "    <tr style=\"text-align: right;\">\n",
       "      <th></th>\n",
       "      <th>Adresse</th>\n",
       "      <th>Nombre_occurences</th>\n",
       "      <th>Valeur_Repay_totale</th>\n",
       "    </tr>\n",
       "  </thead>\n",
       "  <tbody>\n",
       "    <tr>\n",
       "      <th>0</th>\n",
       "      <td>cybervault.eth</td>\n",
       "      <td>4</td>\n",
       "      <td>295.464747</td>\n",
       "    </tr>\n",
       "    <tr>\n",
       "      <th>1</th>\n",
       "      <td>0x0adf1fbcae6b16d96d30685d2e0d92dab8639d3a</td>\n",
       "      <td>1</td>\n",
       "      <td>0.432675</td>\n",
       "    </tr>\n",
       "    <tr>\n",
       "      <th>2</th>\n",
       "      <td>0x6a8660031f6bb191cac9e6c941fa591bc174c094</td>\n",
       "      <td>1</td>\n",
       "      <td>0.200000</td>\n",
       "    </tr>\n",
       "    <tr>\n",
       "      <th>3</th>\n",
       "      <td>0xa7f3c74f0255796fd5d3ddcf88db769f7a6bf46a</td>\n",
       "      <td>2</td>\n",
       "      <td>100.325239</td>\n",
       "    </tr>\n",
       "    <tr>\n",
       "      <th>4</th>\n",
       "      <td>0x083c5d8fb28ca1d49a4f0b7189556cf962a04ff0</td>\n",
       "      <td>1</td>\n",
       "      <td>320.003000</td>\n",
       "    </tr>\n",
       "    <tr>\n",
       "      <th>...</th>\n",
       "      <td>...</td>\n",
       "      <td>...</td>\n",
       "      <td>...</td>\n",
       "    </tr>\n",
       "    <tr>\n",
       "      <th>2305</th>\n",
       "      <td>0x1f02f8f9c2d0430d9f0475bc7ebfbbcc6c84dd75</td>\n",
       "      <td>1</td>\n",
       "      <td>25.070970</td>\n",
       "    </tr>\n",
       "    <tr>\n",
       "      <th>2306</th>\n",
       "      <td>0xbc8be3392b13922008804d31dc5093ff1a4d2e7f</td>\n",
       "      <td>1</td>\n",
       "      <td>1.002891</td>\n",
       "    </tr>\n",
       "    <tr>\n",
       "      <th>2307</th>\n",
       "      <td>0x7e55a3ebf437c943ad6ca86676c20714810e1fe3</td>\n",
       "      <td>1</td>\n",
       "      <td>0.158796</td>\n",
       "    </tr>\n",
       "    <tr>\n",
       "      <th>2308</th>\n",
       "      <td>0x299f03170913b4fd3158100dd5e5cc97fd0b0967</td>\n",
       "      <td>3</td>\n",
       "      <td>2.704992</td>\n",
       "    </tr>\n",
       "    <tr>\n",
       "      <th>2309</th>\n",
       "      <td>0x4cf638d84829ac0c081f9ab6706a3926076c0e30</td>\n",
       "      <td>1</td>\n",
       "      <td>100.267766</td>\n",
       "    </tr>\n",
       "  </tbody>\n",
       "</table>\n",
       "<p>2310 rows × 3 columns</p>\n",
       "</div>"
      ],
      "text/plain": [
       "                                         Adresse  Nombre_occurences  \\\n",
       "0                                 cybervault.eth                  4   \n",
       "1     0x0adf1fbcae6b16d96d30685d2e0d92dab8639d3a                  1   \n",
       "2     0x6a8660031f6bb191cac9e6c941fa591bc174c094                  1   \n",
       "3     0xa7f3c74f0255796fd5d3ddcf88db769f7a6bf46a                  2   \n",
       "4     0x083c5d8fb28ca1d49a4f0b7189556cf962a04ff0                  1   \n",
       "...                                          ...                ...   \n",
       "2305  0x1f02f8f9c2d0430d9f0475bc7ebfbbcc6c84dd75                  1   \n",
       "2306  0xbc8be3392b13922008804d31dc5093ff1a4d2e7f                  1   \n",
       "2307  0x7e55a3ebf437c943ad6ca86676c20714810e1fe3                  1   \n",
       "2308  0x299f03170913b4fd3158100dd5e5cc97fd0b0967                  3   \n",
       "2309  0x4cf638d84829ac0c081f9ab6706a3926076c0e30                  1   \n",
       "\n",
       "      Valeur_Repay_totale  \n",
       "0              295.464747  \n",
       "1                0.432675  \n",
       "2                0.200000  \n",
       "3              100.325239  \n",
       "4              320.003000  \n",
       "...                   ...  \n",
       "2305            25.070970  \n",
       "2306             1.002891  \n",
       "2307             0.158796  \n",
       "2308             2.704992  \n",
       "2309           100.267766  \n",
       "\n",
       "[2310 rows x 3 columns]"
      ]
     },
     "execution_count": 148,
     "metadata": {},
     "output_type": "execute_result"
    }
   ],
   "source": [
    "df_adrr_val"
   ]
  },
  {
   "cell_type": "code",
   "execution_count": 149,
   "id": "56cef77f",
   "metadata": {},
   "outputs": [],
   "source": [
    "df_adrr_val.to_csv(\"DataFrame_Repay_per_Adress.csv\")"
   ]
  },
  {
   "cell_type": "markdown",
   "id": "31ea70a7",
   "metadata": {},
   "source": [
    "- DataFrame des Transferts:"
   ]
  },
  {
   "cell_type": "code",
   "execution_count": 136,
   "id": "c3200b2e",
   "metadata": {},
   "outputs": [],
   "source": [
    "df_Transfert=df[df.Method==\"Transfer\"]\n",
    "df_Transfert.reset_index(inplace=True, drop=True)\n",
    "df_Transfert.to_csv(\"DataFrame_Transfert.csv\")"
   ]
  },
  {
   "cell_type": "code",
   "execution_count": 150,
   "id": "407f96e9",
   "metadata": {},
   "outputs": [
    {
     "data": {
      "text/html": [
       "<div>\n",
       "<style scoped>\n",
       "    .dataframe tbody tr th:only-of-type {\n",
       "        vertical-align: middle;\n",
       "    }\n",
       "\n",
       "    .dataframe tbody tr th {\n",
       "        vertical-align: top;\n",
       "    }\n",
       "\n",
       "    .dataframe thead th {\n",
       "        text-align: right;\n",
       "    }\n",
       "</style>\n",
       "<table border=\"1\" class=\"dataframe\">\n",
       "  <thead>\n",
       "    <tr style=\"text-align: right;\">\n",
       "      <th></th>\n",
       "      <th>Txn_Hash</th>\n",
       "      <th>Method</th>\n",
       "      <th>Block</th>\n",
       "      <th>Date</th>\n",
       "      <th>From</th>\n",
       "      <th>IN/OUT</th>\n",
       "      <th>Destination</th>\n",
       "      <th>Value</th>\n",
       "      <th>Crypto</th>\n",
       "      <th>TXN_Fee</th>\n",
       "    </tr>\n",
       "  </thead>\n",
       "  <tbody>\n",
       "    <tr>\n",
       "      <th>0</th>\n",
       "      <td>0xc4d61086924b6a5cd140c8a670e982be3687b4b1aedb...</td>\n",
       "      <td>Transfer</td>\n",
       "      <td>15025728</td>\n",
       "      <td>17 days 14 hrs ago</td>\n",
       "      <td>0x3a4406e17619501d1a61d5fb4b597b3b504e7ab6</td>\n",
       "      <td>IN</td>\n",
       "      <td>Aave: WETH Gateway</td>\n",
       "      <td>0.012910</td>\n",
       "      <td>Ether</td>\n",
       "      <td>0.000500</td>\n",
       "    </tr>\n",
       "    <tr>\n",
       "      <th>1</th>\n",
       "      <td>0xa664aafdea6529582a966db556baacd03a4e8bd3016a...</td>\n",
       "      <td>Transfer</td>\n",
       "      <td>15012550</td>\n",
       "      <td>20 days 1 hr ago</td>\n",
       "      <td>0x1950dabc57a04b4c831e64600b91c8ab34973c8a</td>\n",
       "      <td>IN</td>\n",
       "      <td>Aave: WETH Gateway</td>\n",
       "      <td>0.146113</td>\n",
       "      <td>Ether</td>\n",
       "      <td>0.000337</td>\n",
       "    </tr>\n",
       "    <tr>\n",
       "      <th>2</th>\n",
       "      <td>0x6663baefe9c8f33add617916447ecc4a39b432b465da...</td>\n",
       "      <td>Transfer</td>\n",
       "      <td>14962420</td>\n",
       "      <td>28 days 20 hrs ago</td>\n",
       "      <td>0x1950dabc57a04b4c831e64600b91c8ab34973c8a</td>\n",
       "      <td>IN</td>\n",
       "      <td>Aave: WETH Gateway</td>\n",
       "      <td>0.140000</td>\n",
       "      <td>Ether</td>\n",
       "      <td>0.001379</td>\n",
       "    </tr>\n",
       "    <tr>\n",
       "      <th>3</th>\n",
       "      <td>0xcdb83f472df815df9a695fbe0a02875b1c425bda06c5...</td>\n",
       "      <td>Transfer</td>\n",
       "      <td>14962236</td>\n",
       "      <td>28 days 21 hrs ago</td>\n",
       "      <td>0x1950dabc57a04b4c831e64600b91c8ab34973c8a</td>\n",
       "      <td>IN</td>\n",
       "      <td>Aave: WETH Gateway</td>\n",
       "      <td>0.147472</td>\n",
       "      <td>Ether</td>\n",
       "      <td>0.001435</td>\n",
       "    </tr>\n",
       "    <tr>\n",
       "      <th>4</th>\n",
       "      <td>0xcecdbaeb5377e9eb9f6e5b4df3cb08874e5fe6f2b5fc...</td>\n",
       "      <td>Transfer</td>\n",
       "      <td>14961496</td>\n",
       "      <td>29 days 22 mins ago</td>\n",
       "      <td>0x1950dabc57a04b4c831e64600b91c8ab34973c8a</td>\n",
       "      <td>IN</td>\n",
       "      <td>Aave: WETH Gateway</td>\n",
       "      <td>0.149236</td>\n",
       "      <td>Ether</td>\n",
       "      <td>0.000739</td>\n",
       "    </tr>\n",
       "    <tr>\n",
       "      <th>...</th>\n",
       "      <td>...</td>\n",
       "      <td>...</td>\n",
       "      <td>...</td>\n",
       "      <td>...</td>\n",
       "      <td>...</td>\n",
       "      <td>...</td>\n",
       "      <td>...</td>\n",
       "      <td>...</td>\n",
       "      <td>...</td>\n",
       "      <td>...</td>\n",
       "    </tr>\n",
       "    <tr>\n",
       "      <th>59</th>\n",
       "      <td>0xc39ce128a7afe81f4e210eb76589632d07d34ed2ff71...</td>\n",
       "      <td>Transfer</td>\n",
       "      <td>12465198</td>\n",
       "      <td>419 days 22 hrs ago</td>\n",
       "      <td>0xea49224beb66c3d3f8f0552ec2cb6dc94ebe8175</td>\n",
       "      <td>IN</td>\n",
       "      <td>Aave: WETH Gateway</td>\n",
       "      <td>0.000000</td>\n",
       "      <td>Ether</td>\n",
       "      <td>0.021000</td>\n",
       "    </tr>\n",
       "    <tr>\n",
       "      <th>60</th>\n",
       "      <td>0x33c9a9b2415d9ca874f564862cd067ec5189db9084eb...</td>\n",
       "      <td>Transfer</td>\n",
       "      <td>12465198</td>\n",
       "      <td>419 days 22 hrs ago</td>\n",
       "      <td>0xea49224beb66c3d3f8f0552ec2cb6dc94ebe8175</td>\n",
       "      <td>IN</td>\n",
       "      <td>Aave: WETH Gateway</td>\n",
       "      <td>0.000000</td>\n",
       "      <td>Ether</td>\n",
       "      <td>0.015750</td>\n",
       "    </tr>\n",
       "    <tr>\n",
       "      <th>61</th>\n",
       "      <td>0x50607e7d13a023f0b67d3fbdfc4494bed2ee89fcf475...</td>\n",
       "      <td>Transfer</td>\n",
       "      <td>12389571</td>\n",
       "      <td>431 days 14 hrs ago</td>\n",
       "      <td>0x2d3a09dc5bb55e9888e7eef5583b3e23eb704113</td>\n",
       "      <td>IN</td>\n",
       "      <td>Aave: WETH Gateway</td>\n",
       "      <td>0.000000</td>\n",
       "      <td>Ether</td>\n",
       "      <td>0.001407</td>\n",
       "    </tr>\n",
       "    <tr>\n",
       "      <th>62</th>\n",
       "      <td>0x269bd25fc9bf5ddc33073b514e917a7a758c43b40b9a...</td>\n",
       "      <td>Transfer</td>\n",
       "      <td>12337326</td>\n",
       "      <td>439 days 16 hrs ago</td>\n",
       "      <td>cryptobunker.eth</td>\n",
       "      <td>IN</td>\n",
       "      <td>Aave: WETH Gateway</td>\n",
       "      <td>0.000000</td>\n",
       "      <td>Ether</td>\n",
       "      <td>0.018900</td>\n",
       "    </tr>\n",
       "    <tr>\n",
       "      <th>63</th>\n",
       "      <td>0x115936b18dfd6fca171eb02cf62ed11922360f0307d1...</td>\n",
       "      <td>Transfer</td>\n",
       "      <td>12321215</td>\n",
       "      <td>442 days 4 hrs ago</td>\n",
       "      <td>0x8167d9cf70077fb3984d87c85971cb79182d7781</td>\n",
       "      <td>IN</td>\n",
       "      <td>Aave: WETH Gateway</td>\n",
       "      <td>1.030000</td>\n",
       "      <td>Ether</td>\n",
       "      <td>0.000882</td>\n",
       "    </tr>\n",
       "  </tbody>\n",
       "</table>\n",
       "<p>64 rows × 10 columns</p>\n",
       "</div>"
      ],
      "text/plain": [
       "                                             Txn_Hash    Method     Block  \\\n",
       "0   0xc4d61086924b6a5cd140c8a670e982be3687b4b1aedb...  Transfer  15025728   \n",
       "1   0xa664aafdea6529582a966db556baacd03a4e8bd3016a...  Transfer  15012550   \n",
       "2   0x6663baefe9c8f33add617916447ecc4a39b432b465da...  Transfer  14962420   \n",
       "3   0xcdb83f472df815df9a695fbe0a02875b1c425bda06c5...  Transfer  14962236   \n",
       "4   0xcecdbaeb5377e9eb9f6e5b4df3cb08874e5fe6f2b5fc...  Transfer  14961496   \n",
       "..                                                ...       ...       ...   \n",
       "59  0xc39ce128a7afe81f4e210eb76589632d07d34ed2ff71...  Transfer  12465198   \n",
       "60  0x33c9a9b2415d9ca874f564862cd067ec5189db9084eb...  Transfer  12465198   \n",
       "61  0x50607e7d13a023f0b67d3fbdfc4494bed2ee89fcf475...  Transfer  12389571   \n",
       "62  0x269bd25fc9bf5ddc33073b514e917a7a758c43b40b9a...  Transfer  12337326   \n",
       "63  0x115936b18dfd6fca171eb02cf62ed11922360f0307d1...  Transfer  12321215   \n",
       "\n",
       "                   Date                                        From IN/OUT  \\\n",
       "0    17 days 14 hrs ago  0x3a4406e17619501d1a61d5fb4b597b3b504e7ab6     IN   \n",
       "1      20 days 1 hr ago  0x1950dabc57a04b4c831e64600b91c8ab34973c8a     IN   \n",
       "2    28 days 20 hrs ago  0x1950dabc57a04b4c831e64600b91c8ab34973c8a     IN   \n",
       "3    28 days 21 hrs ago  0x1950dabc57a04b4c831e64600b91c8ab34973c8a     IN   \n",
       "4   29 days 22 mins ago  0x1950dabc57a04b4c831e64600b91c8ab34973c8a     IN   \n",
       "..                  ...                                         ...    ...   \n",
       "59  419 days 22 hrs ago  0xea49224beb66c3d3f8f0552ec2cb6dc94ebe8175     IN   \n",
       "60  419 days 22 hrs ago  0xea49224beb66c3d3f8f0552ec2cb6dc94ebe8175     IN   \n",
       "61  431 days 14 hrs ago  0x2d3a09dc5bb55e9888e7eef5583b3e23eb704113     IN   \n",
       "62  439 days 16 hrs ago                            cryptobunker.eth     IN   \n",
       "63   442 days 4 hrs ago  0x8167d9cf70077fb3984d87c85971cb79182d7781     IN   \n",
       "\n",
       "           Destination     Value Crypto   TXN_Fee  \n",
       "0   Aave: WETH Gateway  0.012910  Ether  0.000500  \n",
       "1   Aave: WETH Gateway  0.146113  Ether  0.000337  \n",
       "2   Aave: WETH Gateway  0.140000  Ether  0.001379  \n",
       "3   Aave: WETH Gateway  0.147472  Ether  0.001435  \n",
       "4   Aave: WETH Gateway  0.149236  Ether  0.000739  \n",
       "..                 ...       ...    ...       ...  \n",
       "59  Aave: WETH Gateway  0.000000  Ether  0.021000  \n",
       "60  Aave: WETH Gateway  0.000000  Ether  0.015750  \n",
       "61  Aave: WETH Gateway  0.000000  Ether  0.001407  \n",
       "62  Aave: WETH Gateway  0.000000  Ether  0.018900  \n",
       "63  Aave: WETH Gateway  1.030000  Ether  0.000882  \n",
       "\n",
       "[64 rows x 10 columns]"
      ]
     },
     "execution_count": 150,
     "metadata": {},
     "output_type": "execute_result"
    }
   ],
   "source": [
    "df_Transfert"
   ]
  },
  {
   "cell_type": "code",
   "execution_count": 59,
   "id": "622b76a0",
   "metadata": {
    "scrolled": true
   },
   "outputs": [
    {
     "data": {
      "text/plain": [
       "<AxesSubplot:xlabel='Value', ylabel='TXN_Fee'>"
      ]
     },
     "execution_count": 59,
     "metadata": {},
     "output_type": "execute_result"
    },
    {
     "data": {
      "image/png": "[encoded data removed]",
      "text/plain": [
       "<Figure size 432x288 with 1 Axes>"
      ]
     },
     "metadata": {
      "needs_background": "light"
     },
     "output_type": "display_data"
    }
   ],
   "source": [
    "df_Transfert.plot.scatter(x='Value',y=\"TXN_Fee\")"
   ]
  },
  {
   "cell_type": "code",
   "execution_count": 151,
   "id": "72c09496",
   "metadata": {},
   "outputs": [],
   "source": [
    "L=[] # Liste des adress qui ont fait des Transferts (avec doublons)\n",
    "for i in range(64):\n",
    "    L.append(df_Deposit.From[i])\n",
    "#print(L)"
   ]
  },
  {
   "cell_type": "code",
   "execution_count": 152,
   "id": "f2cc23e7",
   "metadata": {},
   "outputs": [
    {
     "name": "stdout",
     "output_type": "stream",
     "text": [
      "46\n"
     ]
    }
   ],
   "source": [
    "mylist2 = set(L)     #mylist2 est la liste des adress qui ont fait des transferts (sans doublons)\n",
    "mylist2 = list(mylist2)\n",
    "print(len(mylist2))"
   ]
  },
  {
   "cell_type": "code",
   "execution_count": 153,
   "id": "95828416",
   "metadata": {},
   "outputs": [
    {
     "name": "stdout",
     "output_type": "stream",
     "text": [
      "64\n"
     ]
    }
   ],
   "source": [
    "print(len(L))"
   ]
  },
  {
   "cell_type": "code",
   "execution_count": 154,
   "id": "b3418b97",
   "metadata": {},
   "outputs": [
    {
     "name": "stdout",
     "output_type": "stream",
     "text": [
      "46\n"
     ]
    }
   ],
   "source": [
    "nombre_occurence_adresse=[]\n",
    "for i in mylist2:\n",
    "    a=L.count(i)\n",
    "    nombre_occurence_adresse.append(a)\n",
    "print(len(nombre_occurence_adresse))"
   ]
  },
  {
   "cell_type": "code",
   "execution_count": 157,
   "id": "1357dc47",
   "metadata": {},
   "outputs": [
    {
     "name": "stdout",
     "output_type": "stream",
     "text": [
      "46\n"
     ]
    }
   ],
   "source": [
    "Valeur=[]\n",
    "for i in mylist2:\n",
    "    c=0\n",
    "    for j in range(64):\n",
    "        if L[j]==i:\n",
    "            c=c+df_Transfert.Value[j]\n",
    "    Valeur.append(c)\n",
    "print(len(Valeur))"
   ]
  },
  {
   "cell_type": "code",
   "execution_count": 158,
   "id": "80808042",
   "metadata": {},
   "outputs": [],
   "source": [
    "data = {'Adresse':mylist2,'Nombre_occurences':nombre_occurence_adresse,'Valeur_Transfert_totale' :Valeur}\n",
    "df_adrr_val=pd.DataFrame(data)"
   ]
  },
  {
   "cell_type": "code",
   "execution_count": 160,
   "id": "c2555b56",
   "metadata": {},
   "outputs": [
    {
     "data": {
      "text/html": [
       "<div>\n",
       "<style scoped>\n",
       "    .dataframe tbody tr th:only-of-type {\n",
       "        vertical-align: middle;\n",
       "    }\n",
       "\n",
       "    .dataframe tbody tr th {\n",
       "        vertical-align: top;\n",
       "    }\n",
       "\n",
       "    .dataframe thead th {\n",
       "        text-align: right;\n",
       "    }\n",
       "</style>\n",
       "<table border=\"1\" class=\"dataframe\">\n",
       "  <thead>\n",
       "    <tr style=\"text-align: right;\">\n",
       "      <th></th>\n",
       "      <th>Adresse</th>\n",
       "      <th>Nombre_occurences</th>\n",
       "      <th>Valeur_Transfert_totale</th>\n",
       "    </tr>\n",
       "  </thead>\n",
       "  <tbody>\n",
       "    <tr>\n",
       "      <th>0</th>\n",
       "      <td>0xc42060f4d259bc388f6878564afef8f27ed11bbf</td>\n",
       "      <td>1</td>\n",
       "      <td>0.079369</td>\n",
       "    </tr>\n",
       "    <tr>\n",
       "      <th>1</th>\n",
       "      <td>0x648b826f860c7d41979d9f8fd78b7c45d5d6bf72</td>\n",
       "      <td>4</td>\n",
       "      <td>0.308031</td>\n",
       "    </tr>\n",
       "    <tr>\n",
       "      <th>2</th>\n",
       "      <td>0x615210ce1e958ac404e0219f86e26ff1631e492b</td>\n",
       "      <td>5</td>\n",
       "      <td>0.000000</td>\n",
       "    </tr>\n",
       "    <tr>\n",
       "      <th>3</th>\n",
       "      <td>0x74394656b46c87c81d24675825d1d10f0b84a6a6</td>\n",
       "      <td>5</td>\n",
       "      <td>0.457727</td>\n",
       "    </tr>\n",
       "    <tr>\n",
       "      <th>4</th>\n",
       "      <td>0xc3907286b0540863f8a9c5f1c2324bc6f06c5751</td>\n",
       "      <td>1</td>\n",
       "      <td>0.151000</td>\n",
       "    </tr>\n",
       "  </tbody>\n",
       "</table>\n",
       "</div>"
      ],
      "text/plain": [
       "                                      Adresse  Nombre_occurences  \\\n",
       "0  0xc42060f4d259bc388f6878564afef8f27ed11bbf                  1   \n",
       "1  0x648b826f860c7d41979d9f8fd78b7c45d5d6bf72                  4   \n",
       "2  0x615210ce1e958ac404e0219f86e26ff1631e492b                  5   \n",
       "3  0x74394656b46c87c81d24675825d1d10f0b84a6a6                  5   \n",
       "4  0xc3907286b0540863f8a9c5f1c2324bc6f06c5751                  1   \n",
       "\n",
       "   Valeur_Transfert_totale  \n",
       "0                 0.079369  \n",
       "1                 0.308031  \n",
       "2                 0.000000  \n",
       "3                 0.457727  \n",
       "4                 0.151000  "
      ]
     },
     "execution_count": 160,
     "metadata": {},
     "output_type": "execute_result"
    }
   ],
   "source": [
    "df_adrr_val.head(5)"
   ]
  },
  {
   "cell_type": "code",
   "execution_count": 161,
   "id": "22686414",
   "metadata": {},
   "outputs": [],
   "source": [
    "df_adrr_val.to_csv(\"DataFrame_Transfert_per_Adress.csv\")"
   ]
  },
  {
   "cell_type": "code",
   "execution_count": null,
   "id": "6e44e840",
   "metadata": {},
   "outputs": [],
   "source": []
  }
 ],
 "metadata": {
  "kernelspec": {
   "display_name": "Python 3 (ipykernel)",
   "language": "python",
   "name": "python3"
  },
  "language_info": {
   "codemirror_mode": {
    "name": "ipython",
    "version": 3
   },
   "file_extension": ".py",
   "mimetype": "text/x-python",
   "name": "python",
   "nbconvert_exporter": "python",
   "pygments_lexer": "ipython3",
   "version": "3.9.7"
  }
 },
 "nbformat": 4,
 "nbformat_minor": 5
}
